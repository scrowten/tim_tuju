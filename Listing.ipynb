{
 "cells": [
  {
   "cell_type": "markdown",
   "metadata": {},
   "source": [
    "# Checkout Flow Class Design"
   ]
  },
  {
   "cell_type": "markdown",
   "metadata": {},
   "source": [
    "## Listing\n",
    "\n",
    "Listing is an action to make a product to be sell in Tokopedia\n",
    "To list the product, inputs needed are product name (prod_name), product price (prod_price), store location (store_loc), stock, weight.\n",
    "Here are some rules in listing product:\n",
    "- Product price must be at least in hundred rupiahs. If it is not, then the price will be rounded to the nearest hundred rupiahs.\n",
    "- Store location must be in \"Sumatera\", \"Jawa\", \"Kalimantan\", \"Sulawesi\", or \"Papua\". If seller list a product with another store location, it will be counted as invalid\n",
    "- Stock must be 0 or more\n",
    "- Weight must be more than 0 (weight is in kg)\n",
    "\n",
    "There are 6 method for a listing class:\n",
    "1. Update stock : it is to change the stock by seller. If new stock is negative. The stock will not be changed\n",
    "2. Update price : it is to change the price by seller. Price still have rule explained above.\n",
    "3. Update store location : it is to change the location by seller. If new location doesn't follow the rule above. It won't be changed.\n",
    "4. Update weight : it is to change the weight by seller. If new weight doesn't follow the rule above. It won't be changed.\n",
    "5. Set discount"
   ]
  },
  {
   "cell_type": "code",
   "execution_count": 8,
   "metadata": {},
   "outputs": [],
   "source": [
    "class listing:\n",
    "    def __init__(self, prod_name, prod_price, store_loc, stock, weight):\n",
    "        self.prod_name = prod_name\n",
    "        #PRODUCT PRICE\n",
    "        if prod_price%100!=0:\n",
    "            print(\"Product price invalid. the price will be rounded to hundred rupiahs\")\n",
    "            self.prod_price = round((prod_price/100))*100\n",
    "        else:\n",
    "            self.prod_price = prod_price\n",
    "        #STORE LOCATION\n",
    "        if store_loc not in [\"Sumatera\", \"Jawa\", \"Kalimantan\", \"Sulawesi\", \"Papua\"]:\n",
    "            print(\"Please choose valid location (\\\"Jawa\\\", \\\"Sumatera\\\", \\\"Kalimantan\\\", \\\"Sulawesi\\\" or \\\"Papua\\\")\")\n",
    "            self.store_loc = \"Invalid\"\n",
    "        else:\n",
    "            self.store_loc = store_loc\n",
    "        #STOCK\n",
    "        if stock<0:\n",
    "            print(\"Stock must be 0 or more\")\n",
    "            self.stock = 0\n",
    "        else:\n",
    "            self.stock = stock\n",
    "        #WEIGHT (kg)\n",
    "        if weight<=0:\n",
    "            print(\"Please insert a valid weight (more than 0).\")\n",
    "            self.weight = 1\n",
    "        else:\n",
    "            self.weight = weight\n",
    "        self.discount = 0\n",
    "        self.selling_price = self.prod_price-self.discount\n",
    "        self.headline = f\"We sell {prod_name} at {self.selling_price} IDR today!\"\n",
    "        \n",
    "    def update_stock(self, new_stock):\n",
    "        if new_stock<0:\n",
    "            print(\"Stock must be 0 or more. The stock will not be changed\")\n",
    "        else:\n",
    "            self.stock = new_stock\n",
    "    \n",
    "    def update_price(self, new_price):\n",
    "        if new_price%100!=0:\n",
    "            print(\"Product price invalid. The price will be rounded to hundred rupiahs\")\n",
    "            self.prod_price = round((new_price/100))*100\n",
    "        else:\n",
    "            self.prod_price = new_price\n",
    "        \n",
    "    def update_store_loc(self, new_loc):\n",
    "        if new_loc not in [\"Sumatera\", \"Jawa\", \"Kalimantan\", \"Sulawesi\", \"Papua\"]:\n",
    "            print(\"Please choose valid location (\\\"Jawa\\\", \\\"Sumatera\\\", \\\"Kalimantan\\\", \\\"Sulawesi\\\" or \\\"Papua\\\"). \\n\\\n",
    "                 Store location will not be changed.\")\n",
    "        else:\n",
    "            self.store_loc = new_loc\n",
    "    \n",
    "    def update_weight(self, new_weight):\n",
    "        if weight<=0:\n",
    "            print(\"Please insert a valid weight (more than 0). Weight will not be changed.\")\n",
    "        else:\n",
    "            self.weight = new_weight\n",
    "    \n",
    "    def set_discount(self, discount):\n",
    "        if discount>0 and discount>=self.prod_price:\n",
    "            if discount%100!=0:\n",
    "                print(\"Discount invalid. The discount will be rounded to hundred rupiahs\")\n",
    "                self.discount = round((prod_price/100))*100\n",
    "            else:\n",
    "                self.discount = discount\n",
    "        else :\n",
    "            if discount<=0:\n",
    "                print(\"Discount can not be 0 or less\")\n",
    "            elif discount>=self.prod_price:\n",
    "                print(\"Discount can not more than normal price\")\n",
    "    \n",
    "    def shipping_cost(self, location, service, weight = 1): #service can be \"Reguler\" or \"Sameday\"\n",
    "        ourLoc = {\"Sumatera\":1, \"Jawa\":2, \"Kalimantan\":3, \"Sulawesi\":4, \"Papua\":5}\n",
    "        ourRegulerCost = [10000, 20000, 30000, 40000, 50000]\n",
    "        if location not in [\"Sumatera\", \"Jawa\", \"Kalimantan\", \"Sulawesi\", \"Papua\"]:\n",
    "            print(\"Please choose valid location (\\\"Jawa\\\", \\\"Sumatera\\\", \\\"Kalimantan\\\", \\\"Sulawesi\\\" or \\\"Papua\\\")\")\n",
    "        elif service not in [\"Reguler\", \"Sameday\"]:\n",
    "            print(\"Please choose on of our services (\\\"Reguler\\\" or \\\"Sameday\\\")\")\n",
    "        else:\n",
    "            if self.store_loc!=location:\n",
    "                if service==\"Sameday\":\n",
    "                    print(\"Same day delivery can't be done in this location. Please choose another service (\\\"Reguler\\\")\")\n",
    "                else:\n",
    "                    return ourRegulerCost[abs(ourLoc[self.store_loc]-ourLoc[location])]*weight\n",
    "            else:\n",
    "                if service==\"Sameday\":\n",
    "                    return 25000*weight\n",
    "                else:\n",
    "                    return ourRegulerCost[0]*weight\n",
    "    \n",
    "    #def add_to_catalog(self, catalog):\n",
    "        \n",
    "\n",
    "        \n",
    "class ShoppingCart(listing):\n",
    "    def __init__(self, product, quantity, my_loc):\n",
    "        super().__init__(product.prod_name, product.prod_price, product.store_loc, product.stock, product.weight) #super buat ngakses class User"
   ]
  },
  {
   "cell_type": "code",
   "execution_count": 59,
   "metadata": {
    "scrolled": true
   },
   "outputs": [
    {
     "name": "stdout",
     "output_type": "stream",
     "text": [
      "Please choose valid location (\"Jawa\", \"Sumatera\", \"Kalimantan\", \"Sulawesi\" or \"Papua\")\n"
     ]
    }
   ],
   "source": [
    "vacum = listing(\"Vacum\", 200000, \"Jabodetabek\", 100, 200)"
   ]
  },
  {
   "cell_type": "code",
   "execution_count": 60,
   "metadata": {},
   "outputs": [
    {
     "data": {
      "text/plain": [
       "'NULL'"
      ]
     },
     "execution_count": 60,
     "metadata": {},
     "output_type": "execute_result"
    }
   ],
   "source": [
    "vacum.store_loc"
   ]
  },
  {
   "cell_type": "code",
   "execution_count": 11,
   "metadata": {},
   "outputs": [],
   "source": [
    "myCart = ShoppingCart(vacum, 10, \"Jabodetabek\")"
   ]
  },
  {
   "cell_type": "code",
   "execution_count": 56,
   "metadata": {},
   "outputs": [
    {
     "name": "stdout",
     "output_type": "stream",
     "text": [
      "Please choose on of our services (\"Reguler\" or \"Sameday\")\n"
     ]
    }
   ],
   "source": [
    "vacum.shipping_cost(\"Jawa\", \"JNE\")"
   ]
  },
  {
   "cell_type": "code",
   "execution_count": 18,
   "metadata": {
    "scrolled": true
   },
   "outputs": [
    {
     "name": "stdout",
     "output_type": "stream",
     "text": [
      "Same day delivery can't be done in this location. Please choose another service (\"Reguler\" or \"Express\")\n"
     ]
    }
   ],
   "source": [
    "print(\"Same day delivery can't be done in this location. \\\n",
    "Please choose another service (\\\"Reguler\\\" or \\\"Express\\\")\")"
   ]
  },
  {
   "cell_type": "code",
   "execution_count": 6,
   "metadata": {},
   "outputs": [
    {
     "name": "stdout",
     "output_type": "stream",
     "text": [
      "ass \n",
      " as\n"
     ]
    }
   ],
   "source": [
    "print(\"ass \\n as\")"
   ]
  }
 ],
 "metadata": {
  "kernelspec": {
   "display_name": "Python 3",
   "language": "python",
   "name": "python3"
  },
  "language_info": {
   "codemirror_mode": {
    "name": "ipython",
    "version": 3
   },
   "file_extension": ".py",
   "mimetype": "text/x-python",
   "name": "python",
   "nbconvert_exporter": "python",
   "pygments_lexer": "ipython3",
   "version": "3.7.3"
  }
 },
 "nbformat": 4,
 "nbformat_minor": 2
}
