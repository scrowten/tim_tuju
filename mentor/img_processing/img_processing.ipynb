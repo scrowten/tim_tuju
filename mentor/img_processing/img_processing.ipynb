{
 "cells": [
  {
   "cell_type": "code",
   "execution_count": 1,
   "metadata": {},
   "outputs": [],
   "source": [
    "# import the necessary packages\n",
    "from sklearn.cluster import KMeans\n",
    "from collections import Counter\n",
    "import pandas as pd\n",
    "import numpy as np\n",
    "import urllib\n",
    "import cv2\n",
    "import time\n"
   ]
  },
  {
   "cell_type": "code",
   "execution_count": 2,
   "metadata": {},
   "outputs": [],
   "source": [
    "# METHOD #1: OpenCV, NumPy, and urllib\n",
    "def url_to_image(url):\n",
    "    # download the image, convert it to a NumPy array, and then read\n",
    "    # it into OpenCV format\n",
    "    resp = urllib.request.urlopen(url)\n",
    "    image = np.asarray(bytearray(resp.read()), dtype=\"uint8\")\n",
    "    image = cv2.imdecode(image, cv2.IMREAD_COLOR)\n",
    "\n",
    "    # return the image\n",
    "    return image"
   ]
  },
  {
   "cell_type": "code",
   "execution_count": 3,
   "metadata": {},
   "outputs": [],
   "source": [
    "def get_dominant_color(image, k=10, image_processing_size = None):\n",
    "    \"\"\"\n",
    "    takes an image as input\n",
    "    returns the dominant color of the image as a list\n",
    "    \n",
    "    dominant color is found by running k means on the \n",
    "    pixels & returning the centroid of the largest cluster\n",
    "\n",
    "    processing time is sped up by working with a smaller image; \n",
    "    this resizing can be done with the image_processing_size param \n",
    "    which takes a tuple of image dims as input\n",
    "\n",
    "    >>> get_dominant_color(my_image, k=4, image_processing_size = (25, 25))\n",
    "    [56.2423442, 34.0834233, 70.1234123]\n",
    "    \"\"\"\n",
    "    #resize image if new dims provided\n",
    "    if image_processing_size is not None:\n",
    "        image = cv2.resize(image, image_processing_size, \n",
    "                            interpolation = cv2.INTER_AREA)\n",
    "    \n",
    "    #reshape the image to be a list of pixels\n",
    "    image = image.reshape((image.shape[0] * image.shape[1], 3))\n",
    "\n",
    "    #cluster and assign labels to the pixels \n",
    "    clt = KMeans(n_clusters = k)\n",
    "    labels = clt.fit_predict(image)\n",
    "\n",
    "    #count labels to find most popular\n",
    "    label_counts = Counter(labels)\n",
    "\n",
    "    #subset out most popular centroid\n",
    "    dominant_color = clt.cluster_centers_[label_counts.most_common(1)[0][0]]\n",
    "\n",
    "    return list(dominant_color)"
   ]
  },
  {
   "cell_type": "code",
   "execution_count": 4,
   "metadata": {},
   "outputs": [],
   "source": [
    "img = url_to_image(\"https://ecs7.tokopedia.net/img/product-1/2019/3/13/252734311/252734311_c3ee4af0-6970-4e4c-b167-1881339113ba_1677_1677.jpg\")\n",
    "b = cv2.resize(img,(100,100))\n",
    "r,g,b = get_dominant_color(b, k=5, image_processing_size = None)\n"
   ]
  },
  {
   "cell_type": "code",
   "execution_count": 5,
   "metadata": {},
   "outputs": [],
   "source": [
    "c = cv2.resize(b,(1000,1000))"
   ]
  },
  {
   "cell_type": "code",
   "execution_count": 6,
   "metadata": {},
   "outputs": [],
   "source": [
    "df = pd.read_csv(\"df_merge.csv\")"
   ]
  },
  {
   "cell_type": "code",
   "execution_count": 8,
   "metadata": {},
   "outputs": [],
   "source": [
    "df_head = df.head()"
   ]
  },
  {
   "cell_type": "code",
   "execution_count": 58,
   "metadata": {},
   "outputs": [
    {
     "name": "stdout",
     "output_type": "stream",
     "text": [
      "started at 854.6628940105438\n",
      "Data ke:1000. runtime 1348.257580757141\n"
     ]
    },
    {
     "ename": "error",
     "evalue": "OpenCV(3.4.2) C:\\Miniconda3\\conda-bld\\opencv-suite_1534379934306\\work\\modules\\imgproc\\src\\resize.cpp:4044: error: (-215:Assertion failed) !ssize.empty() in function 'cv::resize'\n",
     "output_type": "error",
     "traceback": [
      "\u001b[1;31m---------------------------------------------------------------------------\u001b[0m",
      "\u001b[1;31merror\u001b[0m                                     Traceback (most recent call last)",
      "\u001b[1;32m<ipython-input-58-5acdae59fddc>\u001b[0m in \u001b[0;36m<module>\u001b[1;34m\u001b[0m\n\u001b[0;32m      4\u001b[0m     \u001b[0murl\u001b[0m \u001b[1;33m=\u001b[0m \u001b[0mrow\u001b[0m\u001b[1;33m[\u001b[0m\u001b[1;34m'image_url'\u001b[0m\u001b[1;33m]\u001b[0m\u001b[1;33m\u001b[0m\u001b[1;33m\u001b[0m\u001b[0m\n\u001b[0;32m      5\u001b[0m     \u001b[0mimg\u001b[0m \u001b[1;33m=\u001b[0m \u001b[0murl_to_image\u001b[0m\u001b[1;33m(\u001b[0m\u001b[0murl\u001b[0m\u001b[1;33m)\u001b[0m\u001b[1;33m\u001b[0m\u001b[1;33m\u001b[0m\u001b[0m\n\u001b[1;32m----> 6\u001b[1;33m     \u001b[0mimg_resized\u001b[0m \u001b[1;33m=\u001b[0m \u001b[0mcv2\u001b[0m\u001b[1;33m.\u001b[0m\u001b[0mresize\u001b[0m\u001b[1;33m(\u001b[0m\u001b[0mimg\u001b[0m\u001b[1;33m,\u001b[0m\u001b[1;33m(\u001b[0m\u001b[1;36m100\u001b[0m\u001b[1;33m,\u001b[0m\u001b[1;36m100\u001b[0m\u001b[1;33m)\u001b[0m\u001b[1;33m)\u001b[0m\u001b[1;33m\u001b[0m\u001b[1;33m\u001b[0m\u001b[0m\n\u001b[0m\u001b[0;32m      7\u001b[0m     \u001b[0mr\u001b[0m\u001b[1;33m,\u001b[0m\u001b[0mg\u001b[0m\u001b[1;33m,\u001b[0m\u001b[0mb\u001b[0m \u001b[1;33m=\u001b[0m \u001b[0mget_dominant_color\u001b[0m\u001b[1;33m(\u001b[0m\u001b[0mimg_resized\u001b[0m\u001b[1;33m,\u001b[0m \u001b[0mk\u001b[0m\u001b[1;33m=\u001b[0m\u001b[1;36m5\u001b[0m\u001b[1;33m,\u001b[0m \u001b[0mimage_processing_size\u001b[0m \u001b[1;33m=\u001b[0m \u001b[1;32mNone\u001b[0m\u001b[1;33m)\u001b[0m\u001b[1;33m\u001b[0m\u001b[1;33m\u001b[0m\u001b[0m\n\u001b[0;32m      8\u001b[0m     \u001b[0mdf\u001b[0m\u001b[1;33m.\u001b[0m\u001b[0mloc\u001b[0m\u001b[1;33m[\u001b[0m\u001b[0mindex\u001b[0m\u001b[1;33m,\u001b[0m\u001b[1;34m'r'\u001b[0m\u001b[1;33m]\u001b[0m \u001b[1;33m=\u001b[0m \u001b[0mr\u001b[0m\u001b[1;33m\u001b[0m\u001b[1;33m\u001b[0m\u001b[0m\n",
      "\u001b[1;31merror\u001b[0m: OpenCV(3.4.2) C:\\Miniconda3\\conda-bld\\opencv-suite_1534379934306\\work\\modules\\imgproc\\src\\resize.cpp:4044: error: (-215:Assertion failed) !ssize.empty() in function 'cv::resize'\n"
     ]
    }
   ],
   "source": [
    "count = 0\n",
    "time_start = time.time()\n",
    "for index, row in df.iterrows():\n",
    "    url = row['image_url']\n",
    "    img = url_to_image(url)\n",
    "    img_resized = cv2.resize(img,(100,100))\n",
    "    r,g,b = get_dominant_color(img_resized, k=5, image_processing_size = None)\n",
    "    df.loc[index,'r'] = r\n",
    "    df.loc[index,'g'] = g\n",
    "    df.loc[index,'b'] = b\n",
    "    count += 1\n",
    "    runtime = time.time() - x\n",
    "    if count == 1:\n",
    "        print('started at ' + str(runtime))\n",
    "    if count % 100 == 0:\n",
    "        print ('Data ke:' + str(count)+ \". runtime \" + str(runtime))\n",
    "    if count > 500:\n",
    "        break\n",
    "        \n",
    "#     row['new'] = \"link \" + url\n",
    "#     print(url)"
   ]
  },
  {
   "cell_type": "code",
   "execution_count": 21,
   "metadata": {},
   "outputs": [],
   "source": [
    "x = time.time()"
   ]
  },
  {
   "cell_type": "code",
   "execution_count": 56,
   "metadata": {},
   "outputs": [
    {
     "data": {
      "text/plain": [
       "21.976031064987183"
      ]
     },
     "execution_count": 56,
     "metadata": {},
     "output_type": "execute_result"
    }
   ],
   "source": [
    "time.time() - x"
   ]
  },
  {
   "cell_type": "code",
   "execution_count": null,
   "metadata": {},
   "outputs": [],
   "source": []
  },
  {
   "cell_type": "code",
   "execution_count": 17,
   "metadata": {},
   "outputs": [
    {
     "data": {
      "text/plain": [
       "0"
      ]
     },
     "execution_count": 17,
     "metadata": {},
     "output_type": "execute_result"
    }
   ],
   "source": [
    "2189180 % 10"
   ]
  },
  {
   "cell_type": "code",
   "execution_count": null,
   "metadata": {},
   "outputs": [],
   "source": []
  },
  {
   "cell_type": "code",
   "execution_count": 14,
   "metadata": {},
   "outputs": [
    {
     "data": {
      "text/html": [
       "<div>\n",
       "<style scoped>\n",
       "    .dataframe tbody tr th:only-of-type {\n",
       "        vertical-align: middle;\n",
       "    }\n",
       "\n",
       "    .dataframe tbody tr th {\n",
       "        vertical-align: top;\n",
       "    }\n",
       "\n",
       "    .dataframe thead th {\n",
       "        text-align: right;\n",
       "    }\n",
       "</style>\n",
       "<table border=\"1\" class=\"dataframe\">\n",
       "  <thead>\n",
       "    <tr style=\"text-align: right;\">\n",
       "      <th></th>\n",
       "      <th>Unnamed: 0</th>\n",
       "      <th>product_id</th>\n",
       "      <th>product_name</th>\n",
       "      <th>create_time</th>\n",
       "      <th>child_cat_id</th>\n",
       "      <th>cat</th>\n",
       "      <th>product_pic_id</th>\n",
       "      <th>image_url</th>\n",
       "      <th>new</th>\n",
       "    </tr>\n",
       "  </thead>\n",
       "  <tbody>\n",
       "    <tr>\n",
       "      <th>0</th>\n",
       "      <td>0</td>\n",
       "      <td>252734311</td>\n",
       "      <td>Kemeja Tunik Anak cewek</td>\n",
       "      <td>2018-01-18 12:01:16.827911</td>\n",
       "      <td>151</td>\n",
       "      <td>[(78, Fashion Anak), (82, Pakaian Anak Perempu...</td>\n",
       "      <td>1027145252</td>\n",
       "      <td>https://ecs7.tokopedia.net/img/product-1/2019/...</td>\n",
       "      <td>link https://ecs7.tokopedia.net/img/product-1/...</td>\n",
       "    </tr>\n",
       "    <tr>\n",
       "      <th>1</th>\n",
       "      <td>1</td>\n",
       "      <td>252734311</td>\n",
       "      <td>Kemeja Tunik Anak cewek</td>\n",
       "      <td>2018-01-18 12:01:16.827911</td>\n",
       "      <td>151</td>\n",
       "      <td>[(78, Fashion Anak), (82, Pakaian Anak Perempu...</td>\n",
       "      <td>1027145251</td>\n",
       "      <td>https://ecs7.tokopedia.net/img/product-1/2019/...</td>\n",
       "      <td>link https://ecs7.tokopedia.net/img/product-1/...</td>\n",
       "    </tr>\n",
       "    <tr>\n",
       "      <th>2</th>\n",
       "      <td>2</td>\n",
       "      <td>252734311</td>\n",
       "      <td>Kemeja Tunik Anak cewek</td>\n",
       "      <td>2018-01-18 12:01:16.827911</td>\n",
       "      <td>151</td>\n",
       "      <td>[(78, Fashion Anak), (82, Pakaian Anak Perempu...</td>\n",
       "      <td>537467002</td>\n",
       "      <td>https://ecs7.tokopedia.net/img/product-1/2018/...</td>\n",
       "      <td>link https://ecs7.tokopedia.net/img/product-1/...</td>\n",
       "    </tr>\n",
       "    <tr>\n",
       "      <th>3</th>\n",
       "      <td>3</td>\n",
       "      <td>252734311</td>\n",
       "      <td>Kemeja Tunik Anak cewek</td>\n",
       "      <td>2018-01-18 12:01:16.827911</td>\n",
       "      <td>151</td>\n",
       "      <td>[(78, Fashion Anak), (82, Pakaian Anak Perempu...</td>\n",
       "      <td>537467001</td>\n",
       "      <td>https://ecs7.tokopedia.net/img/product-1/2018/...</td>\n",
       "      <td>link https://ecs7.tokopedia.net/img/product-1/...</td>\n",
       "    </tr>\n",
       "    <tr>\n",
       "      <th>4</th>\n",
       "      <td>4</td>\n",
       "      <td>252734311</td>\n",
       "      <td>Kemeja Tunik Anak cewek</td>\n",
       "      <td>2018-01-18 12:01:16.827911</td>\n",
       "      <td>151</td>\n",
       "      <td>[(78, Fashion Anak), (82, Pakaian Anak Perempu...</td>\n",
       "      <td>537467000</td>\n",
       "      <td>https://ecs7.tokopedia.net/img/product-1/2018/...</td>\n",
       "      <td>link https://ecs7.tokopedia.net/img/product-1/...</td>\n",
       "    </tr>\n",
       "  </tbody>\n",
       "</table>\n",
       "</div>"
      ],
      "text/plain": [
       "   Unnamed: 0  product_id             product_name  \\\n",
       "0           0   252734311  Kemeja Tunik Anak cewek   \n",
       "1           1   252734311  Kemeja Tunik Anak cewek   \n",
       "2           2   252734311  Kemeja Tunik Anak cewek   \n",
       "3           3   252734311  Kemeja Tunik Anak cewek   \n",
       "4           4   252734311  Kemeja Tunik Anak cewek   \n",
       "\n",
       "                  create_time  child_cat_id  \\\n",
       "0  2018-01-18 12:01:16.827911           151   \n",
       "1  2018-01-18 12:01:16.827911           151   \n",
       "2  2018-01-18 12:01:16.827911           151   \n",
       "3  2018-01-18 12:01:16.827911           151   \n",
       "4  2018-01-18 12:01:16.827911           151   \n",
       "\n",
       "                                                 cat  product_pic_id  \\\n",
       "0  [(78, Fashion Anak), (82, Pakaian Anak Perempu...      1027145252   \n",
       "1  [(78, Fashion Anak), (82, Pakaian Anak Perempu...      1027145251   \n",
       "2  [(78, Fashion Anak), (82, Pakaian Anak Perempu...       537467002   \n",
       "3  [(78, Fashion Anak), (82, Pakaian Anak Perempu...       537467001   \n",
       "4  [(78, Fashion Anak), (82, Pakaian Anak Perempu...       537467000   \n",
       "\n",
       "                                           image_url  \\\n",
       "0  https://ecs7.tokopedia.net/img/product-1/2019/...   \n",
       "1  https://ecs7.tokopedia.net/img/product-1/2019/...   \n",
       "2  https://ecs7.tokopedia.net/img/product-1/2018/...   \n",
       "3  https://ecs7.tokopedia.net/img/product-1/2018/...   \n",
       "4  https://ecs7.tokopedia.net/img/product-1/2018/...   \n",
       "\n",
       "                                                 new  \n",
       "0  link https://ecs7.tokopedia.net/img/product-1/...  \n",
       "1  link https://ecs7.tokopedia.net/img/product-1/...  \n",
       "2  link https://ecs7.tokopedia.net/img/product-1/...  \n",
       "3  link https://ecs7.tokopedia.net/img/product-1/...  \n",
       "4  link https://ecs7.tokopedia.net/img/product-1/...  "
      ]
     },
     "execution_count": 14,
     "metadata": {},
     "output_type": "execute_result"
    }
   ],
   "source": [
    "df_head"
   ]
  },
  {
   "cell_type": "code",
   "execution_count": null,
   "metadata": {},
   "outputs": [],
   "source": []
  }
 ],
 "metadata": {
  "kernelspec": {
   "display_name": "acube",
   "language": "python",
   "name": "acube"
  },
  "language_info": {
   "codemirror_mode": {
    "name": "ipython",
    "version": 3
   },
   "file_extension": ".py",
   "mimetype": "text/x-python",
   "name": "python",
   "nbconvert_exporter": "python",
   "pygments_lexer": "ipython3",
   "version": "3.7.3"
  }
 },
 "nbformat": 4,
 "nbformat_minor": 2
}
