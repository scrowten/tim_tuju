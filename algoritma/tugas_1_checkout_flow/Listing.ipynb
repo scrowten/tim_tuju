{
 "cells": [
  {
   "cell_type": "markdown",
   "metadata": {},
   "source": [
    "# Checkout Flow Class Design"
   ]
  },
  {
   "cell_type": "markdown",
   "metadata": {},
   "source": [
    "## Listing\n",
    "\n",
    "Listing is an action to make a product to be sell in Tokopedia\n",
    "To list the product, inputs needed are product name (prod_name), product price (prod_price), store location (store_loc), stock, weight.\n",
    "Here are some rules in listing product:\n",
    "- Product price must be at least in hundred rupiahs. If it is not, then the price will be rounded to the nearest hundred rupiahs.\n",
    "- Store location must be in \"Sumatera\", \"Jawa\", \"Kalimantan\", \"Sulawesi\", or \"Papua\". If seller list a product with another store location, it will be counted as invalid\n",
    "- Stock must be 0 or more\n",
    "- Weight must be more than 0 (weight is in kg)\n",
    "\n",
    "There are 6 method for a listing class:\n",
    "1. Update stock : it is to change the stock by seller. If new stock is negative. The stock will not be changed\n",
    "2. Update price : it is to change the price by seller. Price still have rule explained above.\n",
    "3. Update store location : it is to change the location by seller. If new location doesn't follow the rule above. It won't be changed.\n",
    "4. Update weight : it is to change the weight by seller. If new weight doesn't follow the rule above. It won't be changed.\n",
    "5. Set discount"
   ]
  },
  {
   "cell_type": "markdown",
   "metadata": {},
   "source": [
    "#### 1. Import Library"
   ]
  },
  {
   "cell_type": "code",
   "execution_count": 121,
   "metadata": {},
   "outputs": [],
   "source": [
    "import datetime"
   ]
  },
  {
   "cell_type": "markdown",
   "metadata": {},
   "source": [
    "#### 2. Initialization Class Listing"
   ]
  },
  {
   "cell_type": "code",
   "execution_count": 205,
   "metadata": {},
   "outputs": [],
   "source": [
    "class Listing:\n",
    "    def __init__(self, prod_name, prod_price, store_loc, stock, weight):\n",
    "        self.prod_name = prod_name\n",
    "        #PRODUCT PRICE\n",
    "        if prod_price%100!=0:\n",
    "            print(\"Product price invalid. the price will be rounded to hundred rupiahs\")\n",
    "            self.prod_price = round((prod_price/100))*100\n",
    "        else:\n",
    "            self.prod_price = prod_price\n",
    "        #STORE LOCATION\n",
    "        if store_loc not in [\"Sumatera\", \"Jawa\", \"Kalimantan\", \"Sulawesi\", \"Papua\"]:\n",
    "            print(\"Please choose valid location (\\\"Jawa\\\", \\\"Sumatera\\\", \\\"Kalimantan\\\", \\\"Sulawesi\\\" or \\\"Papua\\\")\")\n",
    "            self.store_loc = \"Invalid\"\n",
    "        else:\n",
    "            self.store_loc = store_loc\n",
    "        #STOCK\n",
    "        if stock<0:\n",
    "            print(\"Stock must be 0 or more\")\n",
    "            self.stock = 0\n",
    "        else:\n",
    "            self.stock = stock\n",
    "        #WEIGHT (kg)\n",
    "        if weight<=0:\n",
    "            print(\"Please insert a valid weight (more than 0).\")\n",
    "            self.weight = 1\n",
    "        else:\n",
    "            self.weight = weight\n",
    "        self.discount = 0\n",
    "        self.selling_price = self.prod_price-self.discount\n",
    "        self.headline = f\"We sell {prod_name} at {self.selling_price} IDR today!\"\n",
    "        \n",
    "    def update_stock(self, new_stock):\n",
    "        if self.stock + new_stock < 0:\n",
    "            print(\"Stock can't go below zero. The stock will not be changed\")\n",
    "        else:\n",
    "            self.stock += new_stock\n",
    "    \n",
    "    def update_price(self, new_price):\n",
    "        if new_price % 100 != 0:\n",
    "            print(\"Product price invalid. The price will be rounded to hundred rupiahs\")\n",
    "            self.prod_price = round((new_price/100))*100\n",
    "        else:\n",
    "            self.prod_price = new_price\n",
    "        \n",
    "    def update_store_loc(self, new_loc):\n",
    "        if new_loc not in [\"Sumatera\", \"Jawa\", \"Kalimantan\", \"Sulawesi\", \"Papua\"]:\n",
    "            print(\"Please choose valid location (\\\"Jawa\\\", \\\"Sumatera\\\", \\\"Kalimantan\\\", \\\"Sulawesi\\\" or \\\"Papua\\\"). \\n\\\n",
    "                 Store location will not be changed.\")\n",
    "        else:\n",
    "            self.store_loc = new_loc\n",
    "    \n",
    "    def update_weight(self, new_weight):\n",
    "        if weight<=0:\n",
    "            print(\"Please insert a valid weight (more than 0). Weight will not be changed.\")\n",
    "        else:\n",
    "            self.weight = new_weight\n",
    "    \n",
    "    def set_discount(self, discount):\n",
    "        if discount>0 and discount>=self.prod_price:\n",
    "            if discount%100!=0:\n",
    "                print(\"Discount invalid. The discount will be rounded to hundred rupiahs\")\n",
    "                self.discount = round((prod_price/100))*100\n",
    "            else:\n",
    "                self.discount = discount\n",
    "        else :\n",
    "            if discount<=0:\n",
    "                print(\"Discount can not be 0 or less\")\n",
    "            elif discount>=self.prod_price:\n",
    "                print(\"Discount can not more than normal price\")\n",
    "    \n",
    "    def shipping_cost(self, location, service, weight = 1): #service can be \"Reguler\" or \"Sameday\"\n",
    "        ourLoc = {\"Sumatera\":1, \"Jawa\":2, \"Kalimantan\":3, \"Sulawesi\":4, \"Papua\":5}\n",
    "        ourRegulerCost = [10000, 20000, 30000, 40000, 50000]\n",
    "        if location not in [\"Sumatera\", \"Jawa\", \"Kalimantan\", \"Sulawesi\", \"Papua\"]:\n",
    "            print(\"Please choose valid location (\\\"Jawa\\\", \\\"Sumatera\\\", \\\"Kalimantan\\\", \\\"Sulawesi\\\" or \\\"Papua\\\")\")\n",
    "        elif service not in [\"Reguler\", \"Sameday\"]:\n",
    "            print(\"Please choose on of our services (\\\"Reguler\\\" or \\\"Sameday\\\")\")\n",
    "        else:\n",
    "            if self.store_loc!=location:\n",
    "                if service==\"Sameday\":\n",
    "                    print(\"Same day delivery can't be done in this location. Please choose another service (\\\"Reguler\\\")\")\n",
    "                else:\n",
    "                    return ourRegulerCost[abs(ourLoc[self.store_loc]-ourLoc[location])]*weight\n",
    "            else:\n",
    "                if service==\"Sameday\":\n",
    "                    return 25000*weight\n",
    "                else:\n",
    "                    return ourRegulerCost[0]*weight\n",
    "    \n",
    "    #def add_to_catalog(self, catalog):\n",
    "        \n"
   ]
  },
  {
   "cell_type": "markdown",
   "metadata": {},
   "source": [
    "#### 3. Initialization Class ShoppingCart\n",
    "\n",
    "This class initialized with:\n",
    "- `items` : a list of Listing that shows item in cart\n",
    "- `total_price` : total price of the current items in cart\n",
    "- `checkout_time` : save the check out time\n",
    "- "
   ]
  },
  {
   "cell_type": "code",
   "execution_count": 396,
   "metadata": {},
   "outputs": [],
   "source": [
    "class ShoppingCart():\n",
    "    def __init__(self, buyer_loc, service):\n",
    "        self.items = []\n",
    "        self.total_price = 0\n",
    "        self.checkout_time = 0\n",
    "        self.buyer_loc = buyer_loc\n",
    "        self.service = service\n",
    "        self.total_shipping_price = 0\n",
    "        self.item_counter = 0\n",
    "        self.product_number = {}\n",
    "        \n",
    "    def view_item(self):\n",
    "        print(\"Your cart items :\")\n",
    "        for i in range(0, len(self.items)):\n",
    "            if self.items[i][1] > 0:\n",
    "                print(\"*\", self.items[i][0].prod_name, \" : \", self.items[i][1])\n",
    "        print(\"Price: \", self.total_price, \"\\nShipping price: \", self.get_shipping_price())\n",
    "    \n",
    "    def add_item(self, product, qty):\n",
    "        if qty <= product.stock:\n",
    "            if product.prod_name in self.product_number:\n",
    "                self.items[self.product_number[product.prod_name]][1] += qty\n",
    "                self.total_price += (product.prod_price * qty)\n",
    "                product.update_stock(-qty)\n",
    "            else:\n",
    "                self.product_number[product.prod_name] = self.item_counter\n",
    "                self.item_counter += 1\n",
    "                product.update_stock(-qty)\n",
    "                self.items.append([product, qty])\n",
    "                self.total_price += (product.prod_price * qty)\n",
    "        else:\n",
    "            print(\"Your quantity is exceeding the product stock\")\n",
    "        \n",
    "    def remove_item(self, product):\n",
    "        self.total_price -= (product.prod_price * self.items[self.product_number[product.prod_name]][1])\n",
    "        product.update_stock(-self.items[self.product_number[product.prod_name]][1])\n",
    "        self.items[self.product_number[product.prod_name]][1] = 0\n",
    "    \n",
    "    def update_qty(self, product, up_qty):\n",
    "        for i in range(len(self.items)):\n",
    "            if self.items[i][0] == product:\n",
    "                if self.items[i][1] + up_qty > 0:\n",
    "                    self.items[i][1] += up_qty\n",
    "                    self.total_price += (up_qty * product.prod_price)\n",
    "                else:\n",
    "                    print(\"Quantity can't go zero or below, try to remove item instead\")\n",
    "    \n",
    "    def get_shipping_price(self):\n",
    "        total_shipping_price = 0\n",
    "        for i in range(0, len(self.items)):\n",
    "            total_shipping_price += self.items[i][0].shipping_cost(self.buyer_loc, self.service, self.items[i][0].weight * self.items[i][1])\n",
    "        return total_shipping_price\n",
    "    \n",
    "    def get_total_price(self):\n",
    "        self.total_shipping_price = self.get_shipping_price()\n",
    "        self.total_price += (self.total_shipping_price)\n",
    "        return self.total_price\n",
    "    \n",
    "    def checkout_now(self):\n",
    "        self.checkout_time = datetime.datetime.now()\n",
    "        print(f\"----------------------------\\nSuccess, you have checkout at {self.checkout_time}. \\nShipping price: {self.get_shipping_price()} \\nTotal price: {self.get_total_price()}\")\n",
    "        "
   ]
  },
  {
   "cell_type": "markdown",
   "metadata": {},
   "source": [
    "### 4. Listing Process\n",
    "#### 4.1. Listing items into marketplace"
   ]
  },
  {
   "cell_type": "code",
   "execution_count": 397,
   "metadata": {
    "scrolled": true
   },
   "outputs": [],
   "source": [
    "vacum = Listing(\"Vacum\", 200000, \"Papua\", 100, 20)\n",
    "sepeda = Listing(\"Sepeda\", 2800000, \"Jawa\", 100, 60)\n",
    "ransel = Listing(\"Ransel\", 1000000, \"Sumatera\", 1000, 1)"
   ]
  },
  {
   "cell_type": "markdown",
   "metadata": {},
   "source": [
    "#### 4.2. Checking shipping cost"
   ]
  },
  {
   "cell_type": "code",
   "execution_count": 398,
   "metadata": {},
   "outputs": [
    {
     "data": {
      "text/plain": [
       "{20000, 25000}"
      ]
     },
     "execution_count": 398,
     "metadata": {},
     "output_type": "execute_result"
    }
   ],
   "source": [
    "{vacum.shipping_cost(\"Papua\", \"Sameday\", ),\n",
    "sepeda.shipping_cost(\"Sumatera\", \"Reguler\")}"
   ]
  },
  {
   "cell_type": "markdown",
   "metadata": {},
   "source": [
    "### 5. Shopping Process\n",
    "#### 5.1. Build a cart"
   ]
  },
  {
   "cell_type": "code",
   "execution_count": 399,
   "metadata": {},
   "outputs": [],
   "source": [
    "myCart = ShoppingCart(\"Jawa\", \"Reguler\")"
   ]
  },
  {
   "cell_type": "markdown",
   "metadata": {},
   "source": [
    "#### 5.2. Checking items in bucket"
   ]
  },
  {
   "cell_type": "code",
   "execution_count": 400,
   "metadata": {},
   "outputs": [
    {
     "name": "stdout",
     "output_type": "stream",
     "text": [
      "Your cart items :\n",
      "Price:  0 \n",
      "Shipping price:  0\n"
     ]
    }
   ],
   "source": [
    "myCart.view_item()"
   ]
  },
  {
   "cell_type": "markdown",
   "metadata": {},
   "source": [
    "#### 5.3. Add items into bucket"
   ]
  },
  {
   "cell_type": "code",
   "execution_count": 401,
   "metadata": {},
   "outputs": [],
   "source": [
    "myCart.add_item(vacum, 1)\n",
    "myCart.add_item(sepeda, 5)\n",
    "myCart.add_item(ransel, 10)"
   ]
  },
  {
   "cell_type": "markdown",
   "metadata": {},
   "source": [
    "#### 5.4. Checking items in bucket after add items"
   ]
  },
  {
   "cell_type": "code",
   "execution_count": 402,
   "metadata": {},
   "outputs": [
    {
     "name": "stdout",
     "output_type": "stream",
     "text": [
      "Your cart items :\n",
      "* Vacum  :  1\n",
      "* Sepeda  :  5\n",
      "* Ransel  :  10\n",
      "Price:  24200000 \n",
      "Shipping price:  4000000\n"
     ]
    }
   ],
   "source": [
    "myCart.view_item()"
   ]
  },
  {
   "cell_type": "markdown",
   "metadata": {},
   "source": [
    "#### 5.4. Updating quantity of items"
   ]
  },
  {
   "cell_type": "code",
   "execution_count": 403,
   "metadata": {},
   "outputs": [
    {
     "name": "stdout",
     "output_type": "stream",
     "text": [
      "Quantity can't go zero or below, try to remove item instead\n"
     ]
    }
   ],
   "source": [
    "myCart.update_qty(vacum, 10)\n",
    "myCart.update_qty(ransel, -10)\n",
    "myCart.update_qty(ransel, -9)"
   ]
  },
  {
   "cell_type": "markdown",
   "metadata": {},
   "source": [
    "#### 5.5. Checking items in bucket"
   ]
  },
  {
   "cell_type": "code",
   "execution_count": 404,
   "metadata": {},
   "outputs": [
    {
     "name": "stdout",
     "output_type": "stream",
     "text": [
      "Your cart items :\n",
      "* Vacum  :  11\n",
      "* Sepeda  :  5\n",
      "* Ransel  :  1\n",
      "Price:  17200000 \n",
      "Shipping price:  11820000\n"
     ]
    }
   ],
   "source": [
    "myCart.view_item()"
   ]
  },
  {
   "cell_type": "markdown",
   "metadata": {},
   "source": [
    "#### 5.6. Remove item from bucket\n"
   ]
  },
  {
   "cell_type": "code",
   "execution_count": 407,
   "metadata": {},
   "outputs": [
    {
     "name": "stdout",
     "output_type": "stream",
     "text": [
      "Your cart items :\n",
      "* Sepeda  :  5\n",
      "* Ransel  :  1\n",
      "Price:  18020000 \n",
      "Shipping price:  3020000\n"
     ]
    }
   ],
   "source": [
    "myCart.remove_item(vacum)\n",
    "\n",
    "myCart.view_item()"
   ]
  },
  {
   "cell_type": "markdown",
   "metadata": {},
   "source": [
    "#### 5.7. Checkout"
   ]
  },
  {
   "cell_type": "code",
   "execution_count": 408,
   "metadata": {},
   "outputs": [
    {
     "name": "stdout",
     "output_type": "stream",
     "text": [
      "----------------------------\n",
      "Succes, you have checkout at 2019-07-23 08:57:22.418387. \n",
      "Shipping price: 3020000 \n",
      "Total price: 21040000\n"
     ]
    }
   ],
   "source": [
    "myCart.checkout_now()"
   ]
  },
  {
   "cell_type": "code",
   "execution_count": null,
   "metadata": {},
   "outputs": [],
   "source": []
  },
  {
   "cell_type": "code",
   "execution_count": 8,
   "metadata": {
    "scrolled": true
   },
   "outputs": [
    {
     "name": "stdout",
     "output_type": "stream",
     "text": [
      "Same day delivery can't be done in this location. Please choose another service (\"Reguler\" or \"Express\")\n"
     ]
    }
   ],
   "source": [
    "print(\"Same day delivery can't be done in this location. \\\n",
    "Please choose another service (\\\"Reguler\\\" or \\\"Express\\\")\")"
   ]
  }
 ],
 "metadata": {
  "kernelspec": {
   "display_name": "Python 3",
   "language": "python",
   "name": "python3"
  },
  "language_info": {
   "codemirror_mode": {
    "name": "ipython",
    "version": 3
   },
   "file_extension": ".py",
   "mimetype": "text/x-python",
   "name": "python",
   "nbconvert_exporter": "python",
   "pygments_lexer": "ipython3",
   "version": "3.7.3"
  }
 },
 "nbformat": 4,
 "nbformat_minor": 2
}
